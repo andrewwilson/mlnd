{
 "cells": [
  {
   "cell_type": "code",
   "execution_count": 1,
   "metadata": {
    "collapsed": false
   },
   "outputs": [
    {
     "name": "stdout",
     "output_type": "stream",
     "text": [
      "Your linear model is y=5.51351351351*x+30.7027027027\n"
     ]
    },
    {
     "data": {
      "image/png": "[encoded data removed]",
      "text/plain": [
       "<matplotlib.figure.Figure at 0x105621490>"
      ]
     },
     "metadata": {},
     "output_type": "display_data"
    }
   ],
   "source": [
    "#\n",
    "#\n",
    "# Regression and Classification programming exercises\n",
    "#\n",
    "#\n",
    "\n",
    "\n",
    "#\n",
    "#\tIn this exercise we will be taking a small data set and computing a linear function\n",
    "#\tthat fits it, by hand.\n",
    "#\t\n",
    "\n",
    "#\tthe data set\n",
    "\n",
    "import numpy as np\n",
    "\n",
    "sleep = [5,6,7,8,10]\n",
    "scores = [65,51,75,75,86]\n",
    "\n",
    "\n",
    "\n",
    "def compute_regression(sleep,scores):\n",
    "\n",
    "    #\tFirst, compute the average amount of each list\n",
    "\n",
    "    avg_sleep = np.mean(sleep)\n",
    "    avg_scores = np.mean(scores)\n",
    "\n",
    "    #\tThen normalize the lists by subtracting the mean value from each entry\n",
    "\n",
    "    normalized_sleep = np.array(sleep)-avg_sleep\n",
    "    normalized_scores = np.array(scores)-avg_scores\n",
    "\n",
    "    #\tCompute the slope of the line by taking the sum over each student\n",
    "    #\tof the product of their normalized sleep times their normalized test score.\n",
    "    #\tThen divide this by the sum of squares of the normalized sleep times.\n",
    "\n",
    "    slope = np.sum(normalized_scores * normalized_sleep)/np.sum(normalized_sleep * normalized_sleep)\n",
    "\n",
    "    #\tFinally, We have a linear function of the form\n",
    "    #\ty - avg_y = slope * ( x - avg_x )\n",
    "    #\tRewrite this function in the form\n",
    "    #\ty = m * x + b\n",
    "    \n",
    "    # y - avg_y = slope * ( x - avg_x )\n",
    "    # y = slope * (x-avg_x) + avg_y\n",
    "    # y = slope * x - slope * avg_x + avg_y\n",
    "    # y = slope * x + (avg_y-slope*avg_x)\n",
    "    \n",
    "    #\tThen return the values m, b\n",
    "    m = slope\n",
    "    b = avg_scores - slope * avg_sleep\n",
    "\n",
    "    return m,b\n",
    "\n",
    "\n",
    "if __name__==\"__main__\":\n",
    "    m,b = compute_regression(sleep,scores)\n",
    "    print \"Your linear model is y={}*x+{}\".format(m,b)\n",
    "    \n",
    "    %matplotlib inline\n",
    "    import matplotlib.pyplot as plt\n",
    "    \n",
    "    predictions = np.array(sleep)*m +b\n",
    "    plt.plot(sleep, predictions,'o-', color='green', alpha=0.3)\n",
    "    plt.scatter(sleep, scores, color='red' , alpha=0.8)"
   ]
  },
  {
   "cell_type": "code",
   "execution_count": null,
   "metadata": {
    "collapsed": true
   },
   "outputs": [],
   "source": []
  }
 ],
 "metadata": {
  "kernelspec": {
   "display_name": "Python 2",
   "language": "python",
   "name": "python2"
  },
  "language_info": {
   "codemirror_mode": {
    "name": "ipython",
    "version": 2
   },
   "file_extension": ".py",
   "mimetype": "text/x-python",
   "name": "python",
   "nbconvert_exporter": "python",
   "pygments_lexer": "ipython2",
   "version": "2.7.12"
  }
 },
 "nbformat": 4,
 "nbformat_minor": 0
}
