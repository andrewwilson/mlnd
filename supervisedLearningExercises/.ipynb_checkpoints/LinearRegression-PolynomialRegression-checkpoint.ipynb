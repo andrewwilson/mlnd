{
 "cells": [
  {
   "cell_type": "code",
   "execution_count": 1,
   "metadata": {
    "collapsed": false
   },
   "outputs": [
    {
     "name": "stdout",
     "output_type": "stream",
     "text": [
      "Using matplotlib backend: MacOSX\n"
     ]
    }
   ],
   "source": [
    "import matplotlib.pyplot as plt\n",
    "\n",
    "%matplotlib"
   ]
  },
  {
   "cell_type": "code",
   "execution_count": 32,
   "metadata": {
    "collapsed": false
   },
   "outputs": [
    {
     "name": "stdout",
     "output_type": "stream",
     "text": [
      "[ -1.80827085  33.59928326 -71.3685104 ]\n"
     ]
    }
   ],
   "source": [
    "import numpy as np\n",
    "\n",
    "sleep = [5,6,7,8,10,12,16]\n",
    "scores = [65,51,75,75,86,80,0]\n",
    "\n",
    "deg = 2\n",
    "c = np.polyfit(sleep, scores, deg)\n",
    "print c\n",
    "\n",
    "X = np.array(sleep)\n",
    "Y = np.array(scores)\n",
    "\n",
    "preds = np.zeros(len(X))\n",
    "for i in range(deg+1):\n",
    "    preds += np.power(X,i) * c[deg-i]\n",
    "\n",
    "plt.scatter(sleep, scores, color='red')\n",
    "plt.plot(X, preds, color='green')\n",
    "plt.show()\n",
    "\n",
    "\n",
    "coeffs = c"
   ]
  }
 ],
 "metadata": {
  "kernelspec": {
   "display_name": "Python 2",
   "language": "python",
   "name": "python2"
  },
  "language_info": {
   "codemirror_mode": {
    "name": "ipython",
    "version": 2
   },
   "file_extension": ".py",
   "mimetype": "text/x-python",
   "name": "python",
   "nbconvert_exporter": "python",
   "pygments_lexer": "ipython2",
   "version": "2.7.12"
  }
 },
 "nbformat": 4,
 "nbformat_minor": 0
}
