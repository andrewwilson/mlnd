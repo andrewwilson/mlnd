{
 "cells": [
  {
   "cell_type": "code",
   "execution_count": null,
   "metadata": {
    "collapsed": true
   },
   "outputs": [],
   "source": []
  },
  {
   "cell_type": "code",
   "execution_count": null,
   "metadata": {
    "collapsed": true
   },
   "outputs": [],
   "source": [
    "sample_memo = '''\n",
    "Milt, we're gonna need to go ahead and move you downstairs into storage B. We have some new people coming in, and we need all the space we can get. So if you could just go ahead and pack up your stuff and move it down there, that would be terrific, OK?\n",
    "Oh, and remember: next Friday... is Hawaiian shirt day. So, you know, if you want to, go ahead and wear a Hawaiian shirt and jeans.\n",
    "Oh, oh, and I almost forgot. Ahh, I'm also gonna need you to go ahead and come in on Sunday, too...\n",
    "Hello Peter, whats happening? Ummm, I'm gonna need you to go ahead and come in tomorrow. So if you could be here around 9 that would be great, mmmk... oh oh! and I almost forgot ahh, I'm also gonna need you to go ahead and come in on Sunday too, kay. We ahh lost some people this week and ah, we sorta need to play catch up.\n",
    "'''\n",
    "\n",
    "#\n",
    "#   Maximum Likelihood Hypothesis\n",
    "#\n",
    "#\n",
    "#   In this quiz we will find the maximum likelihood word based on the preceding word\n",
    "#\n",
    "#   Fill in the NextWordProbability procedure so that it takes in sample text and a word,\n",
    "#   and returns a dictionary with keys the set of words that come after, whose values are\n",
    "#   the number of times the key comes after that word.\n",
    "#   \n",
    "#   Just use .split() to split the sample_memo text into words separated by spaces.\n",
    "from collections import Counter\n",
    "\n",
    "\n",
    "def NextWordProbability(sampletext,word):\n",
    "    # dont need to remove punctuation here for the quiz.\n",
    "    #punctuation = ',.?!\\n'\n",
    "    words = sampletext\n",
    "    #for p in punctuation:\n",
    "    #    words = words.replace(p, '')\n",
    "    words = words.split(' ')\n",
    "    res = Counter()\n",
    "    count = False\n",
    "    for w in words:\n",
    "        if count:\n",
    "            res[w] +=1 \n",
    "        count = w == word\n",
    "   \n",
    "    return dict(res)"
   ]
  },
  {
   "cell_type": "code",
   "execution_count": null,
   "metadata": {
    "collapsed": false
   },
   "outputs": [],
   "source": [
    "NextWordProbability(sample_memo, \"I'm\")"
   ]
  },
  {
   "cell_type": "code",
   "execution_count": 12,
   "metadata": {
    "collapsed": false,
    "scrolled": false
   },
   "outputs": [
    {
     "name": "stdout",
     "output_type": "stream",
     "text": [
      "and\n",
      "come\n",
      "be\n",
      "go\n"
     ]
    }
   ],
   "source": [
    "#------------------------------------------------------------------\n",
    "\n",
    "#\n",
    "#   Bayes Optimal Classifier\n",
    "#\n",
    "#   In this quiz we will compute the optimal label for a second missing word in a row\n",
    "#   based on the possible words that could be in the first blank\n",
    "#\n",
    "#   Finish the procedurce, LaterWords(), below\n",
    "#\n",
    "#   You may want to import your code from the previous programming exercise!\n",
    "#\n",
    "\n",
    "import collections\n",
    "\n",
    "sample_memo = '''\n",
    "Milt, we're gonna need to go ahead and move you downstairs into storage B. We have some new people coming in, and we need all the space we can get. So if you could just go ahead and pack up your stuff and move it down there, that would be terrific, OK?\n",
    "Oh, and remember: next Friday... is Hawaiian shirt day. So, you know, if you want to, go ahead and wear a Hawaiian shirt and jeans.\n",
    "Oh, oh, and I almost forgot. Ahh, I'm also gonna need you to go ahead and come in on Sunday, too...\n",
    "Hello Peter, whats happening? Ummm, I'm gonna need you to go ahead and come in tomorrow. So if you could be here around 9 that would be great, mmmk... oh oh! and I almost forgot ahh, I'm also gonna need you to go ahead and come in on Sunday too, kay. We ahh lost some people this week and ah, we sorta need to play catch up.\n",
    "'''\n",
    "\n",
    "corrupted_memo = '''\n",
    "Yeah, I'm gonna --- you to go ahead --- --- complain about this. Oh, and if you could --- --- and sit at the kids' table, that'd be --- \n",
    "'''\n",
    "\n",
    "data_list = sample_memo.strip().split()\n",
    "\n",
    "words_to_guess = [\"ahead\",\"could\"]\n",
    "\n",
    "def LaterWords(sample,word,distance):\n",
    "    '''@param sample: a sample of text to draw from\n",
    "    @param word: a word occuring before a corrupted sequence\n",
    "    @param distance: how many words later to estimate (i.e. 1 for the next word, 2 for the word after that)\n",
    "    @returns: a single word which is the most likely possibility\n",
    "    '''\n",
    "    \n",
    "    sample = sample.split(' ')\n",
    "    \n",
    "    # TODO: Given a word, collect the relative probabilities of possible following words\n",
    "    # from @sample. You may want to import your code from the maximum likelihood exercise.\n",
    "    def word_freqs_after(word,distance=1):\n",
    "        count = -1\n",
    "        word_freqs = collections.Counter()\n",
    "        for w in sample:\n",
    "            count -=1\n",
    "            if count == 0:\n",
    "                word_freqs[w] += 1\n",
    "            if w == word:\n",
    "                count = distance\n",
    "        d = dict(word_freqs)\n",
    "        # normalise\n",
    "        total_wt = sum(d.values())*1.0\n",
    "        return { k:v/total_wt for (k,v) in d.iteritems()}\n",
    "    \n",
    "    \n",
    "    # TODO: Repeat the above process--for each distance beyond 1, evaluate the words that\n",
    "    # might come after each word, and combine them weighting by relative probability\n",
    "    # into an estimate of what might appear next.\n",
    "\n",
    "    def delve(word_freqs):\n",
    "        res = collections.Counter()\n",
    "        for word, wt in word_freqs.iteritems():\n",
    "            ww = word_freqs_after(word)\n",
    "            for word1,wt1 in ww.iteritems():\n",
    "                res[word1] += wt*wt1\n",
    "        return dict(res)\n",
    "    \n",
    "    def argmax(d):\n",
    "        #print \"d\",d\n",
    "        y = [ i for i in d.iteritems()]\n",
    "        return sorted(y, key = lambda x:x[1], reverse=True)[0][0]\n",
    "\n",
    "    wfreq = word_freqs_after(word)\n",
    "    for i in range(distance-1):\n",
    "        wfreq = delve(wfreq)\n",
    "    \n",
    "    \n",
    "    return argmax(wfreq)\n",
    "    \n",
    "    \n",
    "print LaterWords(sample_memo,\"ahead\",1)\n",
    "print LaterWords(sample_memo,\"ahead\",2)\n",
    "print LaterWords(sample_memo,\"could\",1)\n",
    "print LaterWords(sample_memo,\"could\",2)\n"
   ]
  }
 ],
 "metadata": {
  "kernelspec": {
   "display_name": "Python 2",
   "language": "python",
   "name": "python2"
  },
  "language_info": {
   "codemirror_mode": {
    "name": "ipython",
    "version": 2
   },
   "file_extension": ".py",
   "mimetype": "text/x-python",
   "name": "python",
   "nbconvert_exporter": "python",
   "pygments_lexer": "ipython2",
   "version": "2.7.12"
  }
 },
 "nbformat": 4,
 "nbformat_minor": 0
}
