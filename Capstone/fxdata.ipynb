{
 "cells": [
  {
   "cell_type": "code",
   "execution_count": 27,
   "metadata": {
    "collapsed": false
   },
   "outputs": [],
   "source": [
    "from __future__ import division\n",
    "import pandas as pd\n",
    "import matplotlib.pyplot as plt\n",
    "%matplotlib inline\n",
    "from IPython.display import display\n",
    "from utils import *\n",
    "import scipy.stats\n",
    "import seaborn as sns\n",
    "from ipywidgets import interact, interactive, FloatProgress, IntProgress"
   ]
  },
  {
   "cell_type": "code",
   "execution_count": 28,
   "metadata": {
    "collapsed": false
   },
   "outputs": [
    {
     "data": {
      "text/plain": [
       "defaultdict(list,\n",
       "            {'EURGBP': ['2015', '2014', '2013', '2016', '2012'],\n",
       "             'EURJPY': ['2012', '2015', '2013', '2016', '2014'],\n",
       "             'EURUSD': ['2012', '201612', '2013', '2014', '2016', '2015'],\n",
       "             'GBPCHF': ['2015', '2014', '2016'],\n",
       "             'GBPJPY': ['2016', '2013', '2015', '2014', '2012'],\n",
       "             'GBPUSD': ['2013', '2015', '2012', '2014', '2016'],\n",
       "             'USDJPY': ['2013', '2016', '2014', '2015', '2012'],\n",
       "             'XAGUSD': ['2013', '2015', '2016', '2012', '2014'],\n",
       "             'XAUGBP': ['2012', '2016', '2015', '2014', '2013'],\n",
       "             'XAUUSD': ['2012', '2015', '2014', '2013', '2016']})"
      ]
     },
     "execution_count": 28,
     "metadata": {},
     "output_type": "execute_result"
    }
   ],
   "source": [
    "fx_1minute_bar_catalog()"
   ]
  },
  {
   "cell_type": "code",
   "execution_count": 29,
   "metadata": {
    "collapsed": false
   },
   "outputs": [],
   "source": [
    "#ds1 = load_1minute_fx_bars('XAUUSD', 2012)['close']\n",
    "ds1 = load_1minute_fx_bars('EURUSD', 2012)['close']"
   ]
  },
  {
   "cell_type": "code",
   "execution_count": 30,
   "metadata": {
    "collapsed": false
   },
   "outputs": [
    {
     "data": {
      "text/plain": [
       "count    372161.000000\n",
       "mean          1.285481\n",
       "std           0.032703\n",
       "min           1.204500\n",
       "25%           1.258180\n",
       "50%           1.292970\n",
       "75%           1.312350\n",
       "max           1.348430\n",
       "Name: close, dtype: float64"
      ]
     },
     "metadata": {},
     "output_type": "display_data"
    }
   ],
   "source": [
    "display(ds1.describe())\n"
   ]
  },
  {
   "cell_type": "code",
   "execution_count": 31,
   "metadata": {
    "collapsed": false
   },
   "outputs": [],
   "source": [
    "RETURN_PERIOD = 1\n",
    "ANN_FACTOR_1MINUTE_BARS = np.sqrt(252 * 24 * 60 / RETURN_PERIOD)\n",
    "TS_SECS = 60 # number of seconds in a regular timestep. 60 for 1x 1-minute bar\n",
    "\n",
    "# annualised log returns\n",
    "lret = logreturn(ds1, ds1.shift(RETURN_PERIOD))* ANN_FACTOR_1MINUTE_BARS\n",
    "lret.name='lret'\n",
    "\n",
    "# put into dataframe, alongside timestamp, and time since last sample\n",
    "df = pd.DataFrame(lret)\n",
    "df['ts'] = lret.index\n",
    "df['time_step'] = ((df['ts']- df['ts'].shift(RETURN_PERIOD)) * 1e-9).astype(int)"
   ]
  },
  {
   "cell_type": "code",
   "execution_count": 32,
   "metadata": {
    "collapsed": false
   },
   "outputs": [
    {
     "data": {
      "text/plain": [
       "<matplotlib.axes._subplots.AxesSubplot at 0x7f7699001810>"
      ]
     },
     "execution_count": 32,
     "metadata": {},
     "output_type": "execute_result"
    },
    {
     "data": {
      "image/png": "[encoded data removed]",
      "text/plain": [
       "<matplotlib.figure.Figure at 0x7f7699074bd0>"
      ]
     },
     "metadata": {},
     "output_type": "display_data"
    }
   ],
   "source": [
    "lret.hist(bins=200, range=(-1,1))"
   ]
  },
  {
   "cell_type": "code",
   "execution_count": 33,
   "metadata": {
    "collapsed": false
   },
   "outputs": [
    {
     "name": "stdout",
     "output_type": "stream",
     "text": [
      "                         lret                  ts            time_step\n",
      "ts                                                                    \n",
      "2012-01-02 02:00:00       NaN 2012-01-02 02:00:00 -9223372036854775808\n",
      "2012-01-02 02:01:00  0.041918 2012-01-02 02:01:00                   60\n",
      "2012-01-02 02:02:00  0.009315 2012-01-02 02:02:00                   60\n",
      "2012-01-02 02:03:00 -0.032602 2012-01-02 02:03:00                   60\n",
      "2012-01-02 02:04:00  0.046574 2012-01-02 02:04:00                   60\n"
     ]
    }
   ],
   "source": [
    "print df.head(5)"
   ]
  },
  {
   "cell_type": "code",
   "execution_count": 34,
   "metadata": {
    "collapsed": true
   },
   "outputs": [],
   "source": [
    "# 1 hour lookback\n",
    "sequence_length = 20"
   ]
  },
  {
   "cell_type": "code",
   "execution_count": 35,
   "metadata": {
    "collapsed": false
   },
   "outputs": [
    {
     "data": {
      "text/plain": [
       "372161"
      ]
     },
     "execution_count": 35,
     "metadata": {},
     "output_type": "execute_result"
    }
   ],
   "source": [
    "len(df)"
   ]
  },
  {
   "cell_type": "code",
   "execution_count": 36,
   "metadata": {
    "collapsed": false
   },
   "outputs": [
    {
     "data": {
      "text/plain": [
       "pandas.core.series.Series"
      ]
     },
     "execution_count": 36,
     "metadata": {},
     "output_type": "execute_result"
    }
   ],
   "source": [
    "type(lret)"
   ]
  },
  {
   "cell_type": "code",
   "execution_count": 37,
   "metadata": {
    "collapsed": false
   },
   "outputs": [
    {
     "data": {
      "text/plain": [
       "True"
      ]
     },
     "execution_count": 37,
     "metadata": {},
     "output_type": "execute_result"
    }
   ],
   "source": [
    "steps = df['time_step'][10:70]\n",
    "(steps == 60).all()"
   ]
  },
  {
   "cell_type": "code",
   "execution_count": 38,
   "metadata": {
    "collapsed": false
   },
   "outputs": [
    {
     "data": {
      "text/plain": [
       "<matplotlib.axes._subplots.AxesSubplot at 0x7f76940ff090>"
      ]
     },
     "execution_count": 38,
     "metadata": {},
     "output_type": "execute_result"
    },
    {
     "data": {
      "image/png": "[encoded data removed]",
      "text/plain": [
       "<matplotlib.figure.Figure at 0x7f76990742d0>"
      ]
     },
     "metadata": {},
     "output_type": "display_data"
    }
   ],
   "source": [
    "df['time_step']['2012-01'][1:].plot()"
   ]
  },
  {
   "cell_type": "code",
   "execution_count": 39,
   "metadata": {
    "collapsed": false
   },
   "outputs": [],
   "source": [
    "# average run length\n",
    "max_samples = len(lret) - sequence_length\n",
    "progress = IntProgress(min=0, max=max_samples)\n",
    "display(progress)\n",
    "i = 0\n",
    "rl = 0\n",
    "results = []\n",
    "while i < max_samples:\n",
    "    if df['time_step'][i] == TS_SECS:\n",
    "        rl += 1\n",
    "    else:\n",
    "        results.append(rl)\n",
    "        while df['time_step'][i] != TS_SECS:\n",
    "            i+=1\n",
    "        rl = 0\n",
    "    i +=1\n",
    "    if i%1000 == 0:\n",
    "        progress.value = i\n",
    "\n",
    "run_length = pd.Series(results)"
   ]
  },
  {
   "cell_type": "code",
   "execution_count": 40,
   "metadata": {
    "collapsed": false
   },
   "outputs": [
    {
     "data": {
      "text/plain": [
       "count     792.000000\n",
       "mean      467.801768\n",
       "std       808.677894\n",
       "min         0.000000\n",
       "25%        12.750000\n",
       "50%        64.500000\n",
       "75%       835.750000\n",
       "max      7198.000000\n",
       "dtype: float64"
      ]
     },
     "metadata": {},
     "output_type": "display_data"
    },
    {
     "data": {
      "text/plain": [
       "<matplotlib.axes._subplots.AxesSubplot at 0x7f7674ff0d90>"
      ]
     },
     "execution_count": 40,
     "metadata": {},
     "output_type": "execute_result"
    },
    {
     "data": {
      "image/png": "[encoded data removed]",
      "text/plain": [
       "<matplotlib.figure.Figure at 0x7f7674fe2210>"
      ]
     },
     "metadata": {},
     "output_type": "display_data"
    }
   ],
   "source": [
    "display(run_length.describe())\n",
    "run_length.hist(bins=50,range=(0,10))\n"
   ]
  },
  {
   "cell_type": "code",
   "execution_count": 41,
   "metadata": {
    "collapsed": false,
    "scrolled": false
   },
   "outputs": [
    {
     "name": "stdout",
     "output_type": "stream",
     "text": [
      "skipped 1\n",
      "(359008, 20)\n",
      "CPU times: user 1min 56s, sys: 1.19 s, total: 1min 57s\n",
      "Wall time: 1min 56s\n"
     ]
    }
   ],
   "source": [
    "%%time\n",
    "\n",
    "# construct samples\n",
    "max_samples = len(lret) - sequence_length\n",
    "\n",
    "progress = IntProgress(min=0, max=max_samples)\n",
    "display(progress)\n",
    "\n",
    "sequences = []\n",
    "ts_result = []\n",
    "i = 0\n",
    "while not (df['time_step'][i:i+sequence_length] == TS_SECS).all():\n",
    "    i += 1\n",
    "print \"skipped\",i\n",
    "while i < max_samples:   \n",
    "    steps = df['time_step'][i:i+sequence_length]    \n",
    "    # only include sequences where all samples have the same step size\n",
    "    if (steps == TS_SECS).all():\n",
    "        sequences.append(df['lret'][i: i + sequence_length])\n",
    "        ts_result.append(df['time_step'][i: i + sequence_length])       \n",
    "\n",
    "    i += 1\n",
    "    if i%1000 == 0:\n",
    "        progress.value = i\n",
    "sequences = np.array(sequences) \n",
    "print sequences.shape"
   ]
  },
  {
   "cell_type": "code",
   "execution_count": 42,
   "metadata": {
    "collapsed": false
   },
   "outputs": [
    {
     "name": "stdout",
     "output_type": "stream",
     "text": [
      "359008 372141 0.964709612754\n"
     ]
    }
   ],
   "source": [
    "print len(sequences), max_samples, len(sequences)/ max_samples"
   ]
  },
  {
   "cell_type": "code",
   "execution_count": 43,
   "metadata": {
    "collapsed": false
   },
   "outputs": [
    {
     "name": "stdout",
     "output_type": "stream",
     "text": [
      "CPU times: user 36.9 s, sys: 4 ms, total: 36.9 s\n",
      "Wall time: 36.9 s\n"
     ]
    }
   ],
   "source": [
    "%%time\n",
    "# sanity check\n",
    "for r in ts_result:\n",
    "    if not (r ==60).all():\n",
    "        print \"fail\""
   ]
  },
  {
   "cell_type": "code",
   "execution_count": 44,
   "metadata": {
    "collapsed": true
   },
   "outputs": [],
   "source": [
    "import h5py\n",
    "with h5py.File('eurusd_2012_sequences_{s}.h5'.format(s=sequence_length), 'w') as f:\n",
    "    f['sequences'] = sequences"
   ]
  },
  {
   "cell_type": "code",
   "execution_count": 45,
   "metadata": {
    "collapsed": false
   },
   "outputs": [],
   "source": [
    "with h5py.File('eurusd_2012_sequences_{s}.h5'.format(s=sequence_length), 'r') as f:\n",
    "    sequences = f['sequences'][...]"
   ]
  },
  {
   "cell_type": "code",
   "execution_count": 46,
   "metadata": {
    "collapsed": false
   },
   "outputs": [
    {
     "data": {
      "text/plain": [
       "(359008, 20)"
      ]
     },
     "execution_count": 46,
     "metadata": {},
     "output_type": "execute_result"
    }
   ],
   "source": [
    "sequences.shape"
   ]
  },
  {
   "cell_type": "markdown",
   "metadata": {},
   "source": [
    "# tests \n",
    "Target = \n",
    "- sum of sequence. can it learn to add them up..???\n",
    "- mean of first half of sequence\n",
    "- mean of first half of sequence minus mean of second half of sequence\n",
    "( can do this on random data..)"
   ]
  }
 ],
 "metadata": {
  "kernelspec": {
   "display_name": "Python 2",
   "language": "python",
   "name": "python2"
  },
  "language_info": {
   "codemirror_mode": {
    "name": "ipython",
    "version": 2
   },
   "file_extension": ".py",
   "mimetype": "text/x-python",
   "name": "python",
   "nbconvert_exporter": "python",
   "pygments_lexer": "ipython2",
   "version": "2.7.12"
  },
  "widgets": {
   "state": {
    "b28a440c8dba466381b35a9b934a7f2f": {
     "views": [
      {
       "cell_index": 14
      }
     ]
    },
    "d88bfb6931e34f6eae30929906cfb8a4": {
     "views": [
      {
       "cell_index": 12
      }
     ]
    }
   },
   "version": "1.2.0"
  }
 },
 "nbformat": 4,
 "nbformat_minor": 1
}
