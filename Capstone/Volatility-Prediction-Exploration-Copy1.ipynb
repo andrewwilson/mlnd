{
 "cells": [
  {
   "cell_type": "code",
   "execution_count": 1,
   "metadata": {
    "collapsed": false
   },
   "outputs": [],
   "source": [
    "from __future__ import division\n",
    "import pandas as pd\n",
    "import numpy as np\n",
    "import seaborn as sns\n",
    "import matplotlib.pyplot as plt\n",
    "from IPython.display import display\n",
    "%matplotlib inline\n",
    "from utils import load_ds1, load_ds2, load_ds2_rand\n",
    "from sklearn.preprocessing import StandardScaler\n",
    "from sklearn.metrics import r2_score, mean_squared_error, mean_absolute_error, median_absolute_error\n",
    "\n",
    "from sklearn.externals import joblib\n",
    "from functools import partial\n",
    "from utils import *"
   ]
  },
  {
   "cell_type": "code",
   "execution_count": 2,
   "metadata": {
    "collapsed": true
   },
   "outputs": [],
   "source": [
    "def load_data():\n",
    "    features_and_targets = partial(\n",
    "        FT_ma_ewma_logreturns_vs_abs_logreturn, \n",
    "        ma_windows=[],\n",
    "        ewma_halflifes=[12],\n",
    "        lret_lookbacks = [1,2,3,4,5,7,10,12,15,19,20,25,30,40]\n",
    "        )\n",
    "    return load_stock_datasets(features_and_targets)"
   ]
  },
  {
   "cell_type": "code",
   "execution_count": 3,
   "metadata": {
    "collapsed": false
   },
   "outputs": [],
   "source": [
    "data = load_data()"
   ]
  },
  {
   "cell_type": "code",
   "execution_count": 4,
   "metadata": {
    "collapsed": false
   },
   "outputs": [
    {
     "name": "stdout",
     "output_type": "stream",
     "text": [
      "['AAPL', 'ABT', 'AIG', 'AMGN', 'APA', 'APC', 'AXP', 'BA', 'BAC', 'BAX', 'BIIB', 'BMY', 'C', 'CAT', 'CELG', 'CL', 'CMCSA', 'COP', 'COST', 'CSCO', 'CVS', 'CVX', 'DD', 'DE', 'DELL', 'DHR', 'DIS', 'DOW', 'EMC', 'EMR', 'EOG', 'EXC', 'F', 'GE', 'GILD', 'HAL', 'HD', 'HON', 'HPQ', 'IBM', 'INTC', 'JNJ', 'JPM', 'KO', 'LLY', 'LOW', 'MCD', 'MDT', 'MMM', 'MO', 'MRK', 'MS', 'MSFT', 'NKE', 'ORCL', 'OXY', 'PEP', 'PFE', 'PG', 'PNC', 'PX', 'QCOM', 'SBUX', 'SLB', 'SO', 'SP500', 'SPG', 'T', 'TGT', 'TJX', 'TWX', 'TXN', 'UNH', 'UNP', 'USB', 'UTX', 'VZ', 'WFC', 'WMT', 'XOM']\n"
     ]
    }
   ],
   "source": [
    "print sorted(data.keys())"
   ]
  },
  {
   "cell_type": "code",
   "execution_count": 5,
   "metadata": {
    "collapsed": false
   },
   "outputs": [
    {
     "data": {
      "text/plain": [
       "Index([u'vol', u'ewma-12', u'lret-1', u'lret-2', u'lret-3', u'lret-4',\n",
       "       u'lret-5', u'lret-7', u'lret-10', u'lret-12', u'lret-15', u'lret-19',\n",
       "       u'lret-20', u'lret-25', u'lret-30', u'lret-40'],\n",
       "      dtype='object')"
      ]
     },
     "execution_count": 5,
     "metadata": {},
     "output_type": "execute_result"
    }
   ],
   "source": [
    "data[data.keys()[0]].X_train.columns"
   ]
  },
  {
   "cell_type": "code",
   "execution_count": 6,
   "metadata": {
    "collapsed": true
   },
   "outputs": [],
   "source": [
    "ds = data['T']"
   ]
  },
  {
   "cell_type": "code",
   "execution_count": 7,
   "metadata": {
    "collapsed": false
   },
   "outputs": [
    {
     "data": {
      "text/html": [
       "<div>\n",
       "<table border=\"1\" class=\"dataframe\">\n",
       "  <thead>\n",
       "    <tr style=\"text-align: right;\">\n",
       "      <th></th>\n",
       "      <th>vol</th>\n",
       "      <th>ewma-12</th>\n",
       "      <th>lret-1</th>\n",
       "      <th>lret-2</th>\n",
       "      <th>lret-3</th>\n",
       "      <th>lret-4</th>\n",
       "      <th>lret-5</th>\n",
       "      <th>lret-7</th>\n",
       "      <th>lret-10</th>\n",
       "      <th>lret-12</th>\n",
       "      <th>lret-15</th>\n",
       "      <th>lret-19</th>\n",
       "      <th>lret-20</th>\n",
       "      <th>lret-25</th>\n",
       "      <th>lret-30</th>\n",
       "      <th>lret-40</th>\n",
       "    </tr>\n",
       "  </thead>\n",
       "  <tbody>\n",
       "    <tr>\n",
       "      <th>1990-03-01</th>\n",
       "      <td>0.022574</td>\n",
       "      <td>0.013962</td>\n",
       "      <td>0.000000</td>\n",
       "      <td>0.020762</td>\n",
       "      <td>0.011724</td>\n",
       "      <td>0.007101</td>\n",
       "      <td>0.000000</td>\n",
       "      <td>-0.023311</td>\n",
       "      <td>0.004706</td>\n",
       "      <td>-0.009479</td>\n",
       "      <td>0.006969</td>\n",
       "      <td>0.016413</td>\n",
       "      <td>0.011891</td>\n",
       "      <td>0.006826</td>\n",
       "      <td>-0.027028</td>\n",
       "      <td>-0.017527</td>\n",
       "    </tr>\n",
       "    <tr>\n",
       "      <th>1990-03-02</th>\n",
       "      <td>0.022076</td>\n",
       "      <td>0.014462</td>\n",
       "      <td>0.022574</td>\n",
       "      <td>0.000000</td>\n",
       "      <td>0.020762</td>\n",
       "      <td>0.011724</td>\n",
       "      <td>0.007101</td>\n",
       "      <td>-0.007101</td>\n",
       "      <td>0.023203</td>\n",
       "      <td>0.009479</td>\n",
       "      <td>-0.037740</td>\n",
       "      <td>0.011561</td>\n",
       "      <td>0.016413</td>\n",
       "      <td>-0.032261</td>\n",
       "      <td>0.018100</td>\n",
       "      <td>-0.011579</td>\n",
       "    </tr>\n",
       "    <tr>\n",
       "      <th>1990-03-05</th>\n",
       "      <td>0.004376</td>\n",
       "      <td>0.013844</td>\n",
       "      <td>0.022076</td>\n",
       "      <td>0.022574</td>\n",
       "      <td>0.000000</td>\n",
       "      <td>0.020762</td>\n",
       "      <td>0.011724</td>\n",
       "      <td>0.000000</td>\n",
       "      <td>-0.004598</td>\n",
       "      <td>0.004706</td>\n",
       "      <td>0.019048</td>\n",
       "      <td>0.013699</td>\n",
       "      <td>0.011561</td>\n",
       "      <td>-0.009412</td>\n",
       "      <td>0.004474</td>\n",
       "      <td>-0.049393</td>\n",
       "    </tr>\n",
       "    <tr>\n",
       "      <th>1990-03-06</th>\n",
       "      <td>0.010905</td>\n",
       "      <td>0.013665</td>\n",
       "      <td>-0.004376</td>\n",
       "      <td>0.022076</td>\n",
       "      <td>0.022574</td>\n",
       "      <td>0.000000</td>\n",
       "      <td>0.020762</td>\n",
       "      <td>0.007101</td>\n",
       "      <td>-0.023311</td>\n",
       "      <td>0.023203</td>\n",
       "      <td>-0.009479</td>\n",
       "      <td>-0.027588</td>\n",
       "      <td>0.013699</td>\n",
       "      <td>-0.002367</td>\n",
       "      <td>-0.029447</td>\n",
       "      <td>0.016737</td>\n",
       "    </tr>\n",
       "    <tr>\n",
       "      <th>1990-03-07</th>\n",
       "      <td>0.010905</td>\n",
       "      <td>0.013498</td>\n",
       "      <td>0.010905</td>\n",
       "      <td>-0.004376</td>\n",
       "      <td>0.022076</td>\n",
       "      <td>0.022574</td>\n",
       "      <td>0.000000</td>\n",
       "      <td>0.011724</td>\n",
       "      <td>-0.007101</td>\n",
       "      <td>-0.004598</td>\n",
       "      <td>0.009479</td>\n",
       "      <td>0.006969</td>\n",
       "      <td>-0.027588</td>\n",
       "      <td>-0.009524</td>\n",
       "      <td>0.006873</td>\n",
       "      <td>-0.023086</td>\n",
       "    </tr>\n",
       "  </tbody>\n",
       "</table>\n",
       "</div>"
      ],
      "text/plain": [
       "                 vol   ewma-12    lret-1    lret-2    lret-3    lret-4  \\\n",
       "1990-03-01  0.022574  0.013962  0.000000  0.020762  0.011724  0.007101   \n",
       "1990-03-02  0.022076  0.014462  0.022574  0.000000  0.020762  0.011724   \n",
       "1990-03-05  0.004376  0.013844  0.022076  0.022574  0.000000  0.020762   \n",
       "1990-03-06  0.010905  0.013665 -0.004376  0.022076  0.022574  0.000000   \n",
       "1990-03-07  0.010905  0.013498  0.010905 -0.004376  0.022076  0.022574   \n",
       "\n",
       "              lret-5    lret-7   lret-10   lret-12   lret-15   lret-19  \\\n",
       "1990-03-01  0.000000 -0.023311  0.004706 -0.009479  0.006969  0.016413   \n",
       "1990-03-02  0.007101 -0.007101  0.023203  0.009479 -0.037740  0.011561   \n",
       "1990-03-05  0.011724  0.000000 -0.004598  0.004706  0.019048  0.013699   \n",
       "1990-03-06  0.020762  0.007101 -0.023311  0.023203 -0.009479 -0.027588   \n",
       "1990-03-07  0.000000  0.011724 -0.007101 -0.004598  0.009479  0.006969   \n",
       "\n",
       "             lret-20   lret-25   lret-30   lret-40  \n",
       "1990-03-01  0.011891  0.006826 -0.027028 -0.017527  \n",
       "1990-03-02  0.016413 -0.032261  0.018100 -0.011579  \n",
       "1990-03-05  0.011561 -0.009412  0.004474 -0.049393  \n",
       "1990-03-06  0.013699 -0.002367 -0.029447  0.016737  \n",
       "1990-03-07 -0.027588 -0.009524  0.006873 -0.023086  "
      ]
     },
     "execution_count": 7,
     "metadata": {},
     "output_type": "execute_result"
    }
   ],
   "source": [
    "ds.X_train.head()"
   ]
  },
  {
   "cell_type": "code",
   "execution_count": 12,
   "metadata": {
    "collapsed": false
   },
   "outputs": [
    {
     "data": {
      "text/plain": [
       "<matplotlib.collections.PathCollection at 0x10e8fe590>"
      ]
     },
     "execution_count": 12,
     "metadata": {},
     "output_type": "execute_result"
    },
    {
     "data": {
      "image/png": "[encoded data removed]",
      "text/plain": [
       "<matplotlib.figure.Figure at 0x10a892890>"
      ]
     },
     "metadata": {},
     "output_type": "display_data"
    }
   ],
   "source": [
    "plt.scatter(ds.X_train['lret-2'], ds.Y_train.iloc[:,0])"
   ]
  },
  {
   "cell_type": "code",
   "execution_count": 14,
   "metadata": {
    "collapsed": false
   },
   "outputs": [
    {
     "data": {
      "image/png": "[encoded data removed]",
      "text/plain": [
       "<matplotlib.figure.Figure at 0x10eac3410>"
      ]
     },
     "metadata": {},
     "output_type": "display_data"
    }
   ],
   "source": [
    "from pandas.tools.plotting import lag_plot\n",
    "plt.show()\n",
    "lag_plot(ds.X_train['lret-1'])\n",
    "plt.show()"
   ]
  },
  {
   "cell_type": "code",
   "execution_count": 20,
   "metadata": {
    "collapsed": false
   },
   "outputs": [
    {
     "data": {
      "text/plain": [
       "<matplotlib.axes._subplots.AxesSubplot at 0x10f40eb90>"
      ]
     },
     "execution_count": 20,
     "metadata": {},
     "output_type": "execute_result"
    },
    {
     "data": {
      "image/png": "[encoded data removed]",
      "text/plain": [
       "<matplotlib.figure.Figure at 0x10f430150>"
      ]
     },
     "metadata": {},
     "output_type": "display_data"
    }
   ],
   "source": [
    "from pandas.tools.plotting import autocorrelation_plot\n",
    "\n",
    "autocorrelation_plot(ds.X_train['vol'])"
   ]
  },
  {
   "cell_type": "code",
   "execution_count": 45,
   "metadata": {
    "collapsed": false
   },
   "outputs": [
    {
     "data": {
      "text/html": [
       "<div>\n",
       "<table border=\"1\" class=\"dataframe\">\n",
       "  <thead>\n",
       "    <tr style=\"text-align: right;\">\n",
       "      <th></th>\n",
       "      <th>vol</th>\n",
       "      <th>ewma-12</th>\n",
       "      <th>lret-1</th>\n",
       "      <th>lret-2</th>\n",
       "      <th>lret-3</th>\n",
       "      <th>lret-4</th>\n",
       "      <th>lret-5</th>\n",
       "      <th>lret-7</th>\n",
       "      <th>lret-10</th>\n",
       "      <th>lret-12</th>\n",
       "      <th>lret-15</th>\n",
       "      <th>lret-19</th>\n",
       "      <th>lret-20</th>\n",
       "      <th>lret-25</th>\n",
       "      <th>lret-30</th>\n",
       "      <th>lret-40</th>\n",
       "    </tr>\n",
       "  </thead>\n",
       "  <tbody>\n",
       "    <tr>\n",
       "      <th>2009-01-29</th>\n",
       "      <td>0.028802</td>\n",
       "      <td>0.019398</td>\n",
       "      <td>0.004173</td>\n",
       "      <td>0.004063</td>\n",
       "      <td>0.007150</td>\n",
       "      <td>-0.002432</td>\n",
       "      <td>-0.013080</td>\n",
       "      <td>-0.023448</td>\n",
       "      <td>-0.036862</td>\n",
       "      <td>-0.013367</td>\n",
       "      <td>-0.025861</td>\n",
       "      <td>0.015655</td>\n",
       "      <td>0.007279</td>\n",
       "      <td>-0.001467</td>\n",
       "      <td>-0.006234</td>\n",
       "      <td>-0.075654</td>\n",
       "    </tr>\n",
       "    <tr>\n",
       "      <th>2009-01-30</th>\n",
       "      <td>0.006776</td>\n",
       "      <td>0.018690</td>\n",
       "      <td>-0.028802</td>\n",
       "      <td>0.004173</td>\n",
       "      <td>0.004063</td>\n",
       "      <td>0.007150</td>\n",
       "      <td>-0.002432</td>\n",
       "      <td>0.038192</td>\n",
       "      <td>0.020560</td>\n",
       "      <td>0.017869</td>\n",
       "      <td>0.010678</td>\n",
       "      <td>0.022420</td>\n",
       "      <td>0.015655</td>\n",
       "      <td>0.002533</td>\n",
       "      <td>0.039125</td>\n",
       "      <td>0.043451</td>\n",
       "    </tr>\n",
       "    <tr>\n",
       "      <th>2009-02-02</th>\n",
       "      <td>0.002742</td>\n",
       "      <td>0.017795</td>\n",
       "      <td>-0.006776</td>\n",
       "      <td>-0.028802</td>\n",
       "      <td>0.004173</td>\n",
       "      <td>0.004063</td>\n",
       "      <td>0.007150</td>\n",
       "      <td>-0.013080</td>\n",
       "      <td>0.018610</td>\n",
       "      <td>-0.036862</td>\n",
       "      <td>-0.019406</td>\n",
       "      <td>-0.000123</td>\n",
       "      <td>0.022420</td>\n",
       "      <td>0.009014</td>\n",
       "      <td>-0.025336</td>\n",
       "      <td>0.016865</td>\n",
       "    </tr>\n",
       "    <tr>\n",
       "      <th>2009-02-03</th>\n",
       "      <td>0.018475</td>\n",
       "      <td>0.017833</td>\n",
       "      <td>0.002742</td>\n",
       "      <td>-0.006776</td>\n",
       "      <td>-0.028802</td>\n",
       "      <td>0.004173</td>\n",
       "      <td>0.004063</td>\n",
       "      <td>-0.002432</td>\n",
       "      <td>-0.023448</td>\n",
       "      <td>0.020560</td>\n",
       "      <td>-0.013367</td>\n",
       "      <td>-0.016427</td>\n",
       "      <td>-0.000123</td>\n",
       "      <td>0.018436</td>\n",
       "      <td>-0.051384</td>\n",
       "      <td>-0.034282</td>\n",
       "    </tr>\n",
       "    <tr>\n",
       "      <th>2009-02-04</th>\n",
       "      <td>0.005906</td>\n",
       "      <td>0.017163</td>\n",
       "      <td>0.018475</td>\n",
       "      <td>0.002742</td>\n",
       "      <td>-0.006776</td>\n",
       "      <td>-0.028802</td>\n",
       "      <td>0.004173</td>\n",
       "      <td>0.007150</td>\n",
       "      <td>0.038192</td>\n",
       "      <td>0.018610</td>\n",
       "      <td>0.017869</td>\n",
       "      <td>-0.025861</td>\n",
       "      <td>-0.016427</td>\n",
       "      <td>0.010695</td>\n",
       "      <td>-0.026051</td>\n",
       "      <td>0.004317</td>\n",
       "    </tr>\n",
       "  </tbody>\n",
       "</table>\n",
       "</div>"
      ],
      "text/plain": [
       "                 vol   ewma-12    lret-1    lret-2    lret-3    lret-4  \\\n",
       "2009-01-29  0.028802  0.019398  0.004173  0.004063  0.007150 -0.002432   \n",
       "2009-01-30  0.006776  0.018690 -0.028802  0.004173  0.004063  0.007150   \n",
       "2009-02-02  0.002742  0.017795 -0.006776 -0.028802  0.004173  0.004063   \n",
       "2009-02-03  0.018475  0.017833  0.002742 -0.006776 -0.028802  0.004173   \n",
       "2009-02-04  0.005906  0.017163  0.018475  0.002742 -0.006776 -0.028802   \n",
       "\n",
       "              lret-5    lret-7   lret-10   lret-12   lret-15   lret-19  \\\n",
       "2009-01-29 -0.013080 -0.023448 -0.036862 -0.013367 -0.025861  0.015655   \n",
       "2009-01-30 -0.002432  0.038192  0.020560  0.017869  0.010678  0.022420   \n",
       "2009-02-02  0.007150 -0.013080  0.018610 -0.036862 -0.019406 -0.000123   \n",
       "2009-02-03  0.004063 -0.002432 -0.023448  0.020560 -0.013367 -0.016427   \n",
       "2009-02-04  0.004173  0.007150  0.038192  0.018610  0.017869 -0.025861   \n",
       "\n",
       "             lret-20   lret-25   lret-30   lret-40  \n",
       "2009-01-29  0.007279 -0.001467 -0.006234 -0.075654  \n",
       "2009-01-30  0.015655  0.002533  0.039125  0.043451  \n",
       "2009-02-02  0.022420  0.009014 -0.025336  0.016865  \n",
       "2009-02-03 -0.000123  0.018436 -0.051384 -0.034282  \n",
       "2009-02-04 -0.016427  0.010695 -0.026051  0.004317  "
      ]
     },
     "metadata": {},
     "output_type": "display_data"
    },
    {
     "data": {
      "text/html": [
       "<div>\n",
       "<table border=\"1\" class=\"dataframe\">\n",
       "  <thead>\n",
       "    <tr style=\"text-align: right;\">\n",
       "      <th></th>\n",
       "      <th>target-1</th>\n",
       "    </tr>\n",
       "  </thead>\n",
       "  <tbody>\n",
       "    <tr>\n",
       "      <th>2009-01-29</th>\n",
       "      <td>0.006776</td>\n",
       "    </tr>\n",
       "    <tr>\n",
       "      <th>2009-01-30</th>\n",
       "      <td>0.002742</td>\n",
       "    </tr>\n",
       "    <tr>\n",
       "      <th>2009-02-02</th>\n",
       "      <td>0.018475</td>\n",
       "    </tr>\n",
       "    <tr>\n",
       "      <th>2009-02-03</th>\n",
       "      <td>0.005906</td>\n",
       "    </tr>\n",
       "    <tr>\n",
       "      <th>2009-02-04</th>\n",
       "      <td>0.026932</td>\n",
       "    </tr>\n",
       "  </tbody>\n",
       "</table>\n",
       "</div>"
      ],
      "text/plain": [
       "            target-1\n",
       "2009-01-29  0.006776\n",
       "2009-01-30  0.002742\n",
       "2009-02-02  0.018475\n",
       "2009-02-03  0.005906\n",
       "2009-02-04  0.026932"
      ]
     },
     "metadata": {},
     "output_type": "display_data"
    },
    {
     "name": "stdout",
     "output_type": "stream",
     "text": [
      "samples 4773\n"
     ]
    },
    {
     "data": {
      "image/png": "[encoded data removed]",
      "text/plain": [
       "<matplotlib.figure.Figure at 0x10f3f9890>"
      ]
     },
     "metadata": {},
     "output_type": "display_data"
    }
   ],
   "source": [
    "ds = data['XOM']\n",
    "\n",
    "X_train = ds.X_train\n",
    "Y_train = ds.Y_train\n",
    "\n",
    "X_dev = ds.X_dev\n",
    "Y_dev = ds.Y_dev\n",
    "\n",
    "X_test = ds.X_test\n",
    "Y_test = ds.Y_test\n",
    "\n",
    "display(X_train.tail())\n",
    "display(Y_train.tail())\n",
    "\n",
    "# scale and normalise\n",
    "scaler = StandardScaler()\n",
    "X_train = scaler.fit_transform(X_train)\n",
    "X_dev = scaler.transform(X_dev)\n",
    "X_test = scaler.transform(X_test)\n",
    "\n",
    "\n",
    "# experimental y scaling.\n",
    "yscaler = StandardScaler()\n",
    "Y_train = yscaler.fit_transform(Y_train)\n",
    "\n",
    "plt.plot(Y_train)\n",
    "print \"samples\", len(X_train)"
   ]
  },
  {
   "cell_type": "code",
   "execution_count": 47,
   "metadata": {
    "collapsed": false
   },
   "outputs": [
    {
     "name": "stdout",
     "output_type": "stream",
     "text": [
      "0.324758106251\n",
      "3.24106027961\n",
      "1.12370454671\n",
      "CPU times: user 3.81 s, sys: 113 ms, total: 3.92 s\n",
      "Wall time: 29.1 s\n"
     ]
    }
   ],
   "source": [
    "%%time\n",
    "\n",
    "from sklearn.svm import SVR\n",
    "from sklearn.multioutput import MultiOutputRegressor\n",
    "from sklearn.tree import DecisionTreeRegressor\n",
    "from sklearn.ensemble import RandomForestRegressor\n",
    "from sklearn.model_selection import GridSearchCV\n",
    "from sklearn.model_selection import RandomizedSearchCV\n",
    "from scipy.stats import randint as sp_randint\n",
    "from scipy.stats import expon as sp_expon\n",
    "from sklearn.model_selection import TimeSeriesSplit\n",
    "\n",
    "model = RandomForestRegressor()\n",
    "param_dist = {\"n_estimators\": sp_randint(1,200),\n",
    "              \"max_depth\": sp_randint(1,20),\n",
    "             }\n",
    "\n",
    "# model = SVR()\n",
    "# param_dist = {'C': sp_expon(scale=100), 'gamma': sp_expon(scale=.1),\n",
    "#   'kernel': ['rbf', 'linear']}\n",
    "\n",
    "\n",
    "# run randomized search\n",
    "n_iter_search = 10 # was 50\n",
    "random_search = RandomizedSearchCV(model, param_distributions=param_dist,\n",
    "                                   n_iter=n_iter_search, n_jobs=-1, cv=TimeSeriesSplit(n_splits=3))\n",
    "\n",
    "random_search.fit(X_train, Y_train.ravel())\n",
    "#random_search.fit(X_train_scaled, Y_train.values)\n",
    "\n",
    "\n",
    "#model = MultiOutputRegressor(SVR())\n",
    "# model = DecisionTreeRegressor(max_depth=5)\n",
    "\n",
    "print random_search.score(X_train, Y_train)\n",
    "\n",
    "print rmse_rel_std(yscaler.inverse_transform(random_search.predict(X_dev)), Y_dev)\n",
    "print rmse_rel_std(random_search.predict(X_dev), Y_dev)\n"
   ]
  },
  {
   "cell_type": "code",
   "execution_count": null,
   "metadata": {
    "collapsed": false
   },
   "outputs": [],
   "source": [
    "# on scaled X and Y...\n",
    "print \"train\", np.sqrt(mean_squared_error(Y_train, random_search.predict(X_train_scaled) )) / Y_train_scaled.std()\n",
    "print \"dev\", np.sqrt(mean_squared_error(Y_dev_scaled, random_search.predict(X_dev_scaled) )) / Y_dev_scaled.std()\n"
   ]
  },
  {
   "cell_type": "markdown",
   "metadata": {
    "collapsed": false
   },
   "source": [
    "todo:\n",
    "    treat ewma and ma as models\n",
    "    seperate models from features and evaluation\n",
    "    add metrics functions to evaluate key criteria, independent of model and dataset."
   ]
  },
  {
   "cell_type": "code",
   "execution_count": null,
   "metadata": {
    "collapsed": false
   },
   "outputs": [],
   "source": [
    "#random_search = joblib.load('rand_searched_rfrefressor.pkl') "
   ]
  },
  {
   "cell_type": "code",
   "execution_count": null,
   "metadata": {
    "collapsed": false
   },
   "outputs": [],
   "source": [
    "from sklearn.metrics import r2_score\n",
    "\n",
    "Y_train_predict = random_search.predict(X_train_scaled)\n",
    "Y_dev_predict = random_search.predict(X_dev_scaled)\n",
    "print \"train r2 score\", r2_score(Y_train, Y_train_predict)\n",
    "print \"dev r2 score\", r2_score(Y_dev, Y_dev_predict)\n",
    "\n",
    "train_mse = mean_squared_error(Y_train_scaled, Y_train_predict)\n",
    "print \"train mse\", train_mse\n",
    "print \"train rmse\", np.sqrt(train_mse)\n",
    "print \"train rel rmse\", rmse_rel_std(Y_train_scaled, Y_train_predict)\n",
    "\n",
    "dev_mse = mean_squared_error(Y_dev_scaled, Y_dev_predict)\n",
    "print \"dev mse\", dev_mse\n",
    "print \"dev rmse\", np.sqrt(dev_mse)\n",
    "print \"dev rel rmse\", rmse_rel_std(Y_dev_scaled, Y_dev_predict)"
   ]
  },
  {
   "cell_type": "code",
   "execution_count": null,
   "metadata": {
    "collapsed": false
   },
   "outputs": [],
   "source": [
    "joblib.dump(random_search, 'rand_searched_rfregressor.pkl')"
   ]
  },
  {
   "cell_type": "code",
   "execution_count": null,
   "metadata": {
    "collapsed": false
   },
   "outputs": [],
   "source": [
    "print \"X_train_scaled shape\", X_train_scaled.shape\n",
    "print \"Y_train\", Y_train.values.ravel().shape"
   ]
  },
  {
   "cell_type": "code",
   "execution_count": null,
   "metadata": {
    "collapsed": false
   },
   "outputs": [],
   "source": [
    "import keras\n",
    "\n",
    "from keras.models import Sequential\n",
    "from keras.layers import Dense, Activation\n",
    "from keras.layers import GaussianDropout\n",
    "from keras.regularizers import l2, activity_l2"
   ]
  },
  {
   "cell_type": "code",
   "execution_count": null,
   "metadata": {
    "collapsed": false
   },
   "outputs": [],
   "source": [
    "X_train.columns"
   ]
  },
  {
   "cell_type": "code",
   "execution_count": null,
   "metadata": {
    "collapsed": false
   },
   "outputs": [],
   "source": [
    "# construct FCNN model\n",
    "features = X_train.columns\n",
    "input_dims = len(features)\n",
    "print \"input dims\", input_dims\n",
    "\n",
    "# create model\n",
    "model = Sequential()\n",
    "model.add(Dense(input_dims, input_dim=input_dims, init='he_normal', activation='relu'))\n",
    "#model.add(GaussianDropout(0.1))\n",
    "model.add(Dense(500, init='he_normal', activation='relu' ))\n",
    "#model.add(GaussianDropout(0.1))\n",
    "model.add(Dense(500, init='he_normal', activation='relu' ))\n",
    "#model.add(GaussianDropout(0.1))\n",
    "#model.add(Dense(100, init='normal', activation='relu' ))\n",
    "#model.add(GaussianDropout(0.7))\n",
    "model.add(Dense(1, init='he_normal'))\n",
    "# Compile model\n",
    "model.compile(loss='mse', optimizer='adam')\n",
    "\n",
    "#model.fit(X_train_scaled, Y_train)"
   ]
  },
  {
   "cell_type": "code",
   "execution_count": null,
   "metadata": {
    "collapsed": false
   },
   "outputs": [],
   "source": [
    "# combine all data sets into a single one\n",
    "X_train_scaled_all = None\n",
    "Y_train_all = None\n",
    "X_dev_all = None\n",
    "X_dev_scaled_all = None\n",
    "Y_dev_all = None\n",
    "\n",
    "\n",
    "for sym in data.keys():\n",
    "   \n",
    "    ds = data[sym]\n",
    "    X_train = ds.X_train[features]\n",
    "    Y_train = ds.Y_train\n",
    "    X_dev = ds.X_dev[features]\n",
    "    Y_dev = ds.Y_dev\n",
    "\n",
    "    # scale and normalise\n",
    "    scaler = StandardScaler()\n",
    "    X_train_scaled = scaler.fit_transform(X_train)\n",
    "    X_dev_scaled = scaler.transform(X_dev)\n",
    "\n",
    "    if X_train_scaled_all is None:\n",
    "        X_train_scaled_all = X_train_scaled\n",
    "        X_dev_all = X_dev\n",
    "        X_dev_scaled_all = X_dev_scaled\n",
    "        Y_train_all = Y_train\n",
    "        Y_dev_all = Y_dev\n",
    "    else:\n",
    "        X_train_scaled_all = np.concatenate( (X_train_scaled_all, X_train_scaled), axis=0)\n",
    "        X_dev_all = np.concatenate( (X_dev_all, X_dev), axis=0)\n",
    "        X_dev_scaled_all = np.concatenate( (X_dev_scaled_all, X_dev_scaled), axis=0)\n",
    "        Y_train_all = np.concatenate( (Y_train_all, Y_train), axis=0)\n",
    "        Y_dev_all = np.concatenate( (Y_dev_all, Y_dev), axis=0)"
   ]
  },
  {
   "cell_type": "code",
   "execution_count": null,
   "metadata": {
    "collapsed": false
   },
   "outputs": [],
   "source": [
    "print X_train_scaled_all.shape\n",
    "print Y_train_all.shape\n",
    "print X_dev_scaled_all.shape\n",
    "print Y_dev_all.shape"
   ]
  },
  {
   "cell_type": "code",
   "execution_count": null,
   "metadata": {
    "collapsed": false
   },
   "outputs": [],
   "source": [
    "# effectiveness of using ewma-12 as a predictive model.\n",
    "model_col = list(X_dev.columns).index('ewma-12')\n",
    "rmse_rel_std(Y_dev_all, X_dev_all[:, model_col])"
   ]
  },
  {
   "cell_type": "code",
   "execution_count": null,
   "metadata": {
    "collapsed": false
   },
   "outputs": [],
   "source": [
    "class MyCallback(keras.callbacks.Callback):\n",
    "    dev_losses = []\n",
    "    train_losses = []\n",
    "    \n",
    "    count = 0\n",
    "    def on_epoch_end(self, epoch, logs):\n",
    "        print epoch, logs['loss']\n",
    "        self.count+=1\n",
    "        if self.count %10 == 0:\n",
    "            print epoch            \n",
    "            train_rel_rmse = rmse_rel_std(Y_train_all, self.model.predict(X_train_scaled_all))\n",
    "            dev_rel_rmse = rmse_rel_std(Y_dev_all, self.model.predict(X_dev_scaled_all))\n",
    "            print \"train rel rmse\", train_rel_rmse\n",
    "            print \"dev rel rmse\", dev_rel_rmse\n",
    "            \n",
    "            self.train_losses.append(train_rel_rmse)\n",
    "            self.dev_losses.append(dev_rel_rmse)\n",
    "            \n",
    "                    "
   ]
  },
  {
   "cell_type": "code",
   "execution_count": null,
   "metadata": {
    "collapsed": true
   },
   "outputs": [],
   "source": [
    "progress = MyCallback()"
   ]
  },
  {
   "cell_type": "code",
   "execution_count": null,
   "metadata": {
    "collapsed": false
   },
   "outputs": [],
   "source": [
    "%%time\n",
    "hist = model.fit(X_train_scaled_all, Y_train_all, nb_epoch=2, verbose=0, batch_size=150000, shuffle=True, callbacks=[progress])"
   ]
  },
  {
   "cell_type": "code",
   "execution_count": null,
   "metadata": {
    "collapsed": false,
    "scrolled": false
   },
   "outputs": [],
   "source": [
    "plt.plot(hist.history['loss'])\n",
    "plt.show()\n",
    "print \"train score\", rmse_rel_std(Y_train_all, model.predict(X_train_scaled_all))\n",
    "print \"dev score\", rmse_rel_std(Y_dev_all, model.predict(X_dev_scaled_all))\n",
    "plt.plot(progress.train_losses, label='train')\n",
    "plt.plot(progress.dev_losses, label='dev')\n",
    "plt.legend()\n",
    "plt.show()"
   ]
  },
  {
   "cell_type": "code",
   "execution_count": null,
   "metadata": {
    "collapsed": false
   },
   "outputs": [],
   "source": [
    "plt.plot(progress.train_losses, label='train')\n",
    "plt.plot(progress.dev_losses, label='dev')\n",
    "plt.legend()\n",
    "plt.show()"
   ]
  },
  {
   "cell_type": "code",
   "execution_count": null,
   "metadata": {
    "collapsed": false
   },
   "outputs": [],
   "source": [
    "print Y_dev_all.shape\n",
    "print X_dev_scaled_all.shape"
   ]
  },
  {
   "cell_type": "code",
   "execution_count": null,
   "metadata": {
    "collapsed": false
   },
   "outputs": [],
   "source": [
    "model.save('nn-500-500-no-dropout.h5')\n"
   ]
  },
  {
   "cell_type": "markdown",
   "metadata": {},
   "source": []
  },
  {
   "cell_type": "code",
   "execution_count": null,
   "metadata": {
    "collapsed": true
   },
   "outputs": [],
   "source": []
  },
  {
   "cell_type": "code",
   "execution_count": null,
   "metadata": {
    "collapsed": false
   },
   "outputs": [],
   "source": [
    "model = keras.models.load_model('nn-500-500-no-dropout.h5')"
   ]
  },
  {
   "cell_type": "code",
   "execution_count": null,
   "metadata": {
    "collapsed": false
   },
   "outputs": [],
   "source": [
    "plt.plot(progress.train_losses, progress.dev_losses)"
   ]
  },
  {
   "cell_type": "code",
   "execution_count": null,
   "metadata": {
    "collapsed": false
   },
   "outputs": [],
   "source": []
  },
  {
   "cell_type": "code",
   "execution_count": null,
   "metadata": {
    "collapsed": false
   },
   "outputs": [],
   "source": [
    "%%time \n",
    "hist = model.fit(X_train_scaled, Y_train.values.ravel(), nb_epoch=2000, verbose=0, batch_size=512000)\n",
    "plt.plot(hist.history['loss'])\n",
    "print \"train score\", r2_score(Y_train, model.predict(X_train_scaled))\n",
    "print \"dev score\", r2_score(Y_dev, model.predict(X_dev_scaled))"
   ]
  },
  {
   "cell_type": "code",
   "execution_count": null,
   "metadata": {
    "collapsed": false
   },
   "outputs": [],
   "source": [
    "print \"train score\", r2_score(Y_train, model.predict(X_train_scaled))\n",
    "print \"dev score\", r2_score(Y_dev, model.predict(X_dev_scaled))\n",
    "#print \"dev corr\", Y_dev.corr(model.predict(X_dev_scaled))\n",
    "#?? args to corr\n",
    "\n"
   ]
  },
  {
   "cell_type": "code",
   "execution_count": null,
   "metadata": {
    "collapsed": false
   },
   "outputs": [],
   "source": [
    "print Y_dev.mean()\n",
    "print np.sqrt(min(hist.history['loss']))"
   ]
  },
  {
   "cell_type": "markdown",
   "metadata": {},
   "source": [
    "- for all stocks split to train, dev, test.\n",
    "- compute range of 5*ma_cross signals.\n",
    "- compute return for each\n",
    "- summarise mean performance across the set. train / dev / test\n",
    "\n",
    "- then train single model across all train. tune on dev.\n",
    "- compare that model mean performance across all stocks.\n",
    "\n",
    "** set up hold out set of stocks that aren't used for model development."
   ]
  }
 ],
 "metadata": {
  "kernelspec": {
   "display_name": "Python 2",
   "language": "python",
   "name": "python2"
  },
  "language_info": {
   "codemirror_mode": {
    "name": "ipython",
    "version": 2
   },
   "file_extension": ".py",
   "mimetype": "text/x-python",
   "name": "python",
   "nbconvert_exporter": "python",
   "pygments_lexer": "ipython2",
   "version": "2.7.12"
  }
 },
 "nbformat": 4,
 "nbformat_minor": 1
}
