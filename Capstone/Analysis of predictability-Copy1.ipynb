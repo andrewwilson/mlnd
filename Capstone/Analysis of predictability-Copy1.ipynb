{
 "cells": [
  {
   "cell_type": "markdown",
   "metadata": {},
   "source": [
    "## Analysis of predictability\n",
    "\n",
    "- train rnn to predict next value.\n",
    "- analyse RMSE on hold out set.\n",
    "- look for distrubution of RMSE on each sequence\n",
    "- look for characteristics of any sequences that have lowest MSE (PCA/ICA)"
   ]
  },
  {
   "cell_type": "code",
   "execution_count": 1,
   "metadata": {
    "collapsed": false
   },
   "outputs": [
    {
     "name": "stderr",
     "output_type": "stream",
     "text": [
      "/usr/local/lib/python2.7/dist-packages/matplotlib/font_manager.py:273: UserWarning: Matplotlib is building the font cache using fc-list. This may take a moment.\n",
      "  warnings.warn('Matplotlib is building the font cache using fc-list. This may take a moment.')\n",
      "Using Theano backend.\n",
      "Using gpu device 0: GeForce GTX 580 (CNMeM is disabled, cuDNN not available)\n"
     ]
    }
   ],
   "source": [
    "from __future__ import division\n",
    "\n",
    "import h5py\n",
    "import numpy as np\n",
    "import pandas as pd\n",
    "import time\n",
    "import matplotlib.pyplot as plt\n",
    "import seaborn as sns\n",
    "%matplotlib inline\n",
    "\n",
    "from keras.models import Sequential\n",
    "from keras.layers.core import Dense, Activation, Dropout\n",
    "from keras.layers.recurrent import LSTM\n",
    "from keras.utils import np_utils\n",
    "from sklearn.metrics import confusion_matrix, accuracy_score, f1_score\n",
    "np.random.seed(1234)"
   ]
  },
  {
   "cell_type": "code",
   "execution_count": 2,
   "metadata": {
    "collapsed": true
   },
   "outputs": [],
   "source": [
    "fname = 'sequences_30_EURUSD_GBPUSD_EURGBP_2012.h5'"
   ]
  },
  {
   "cell_type": "code",
   "execution_count": 3,
   "metadata": {
    "collapsed": false
   },
   "outputs": [],
   "source": [
    "with h5py.File(fname, 'r') as f:\n",
    "    sequences = f['sequences'][...]"
   ]
  },
  {
   "cell_type": "code",
   "execution_count": 4,
   "metadata": {
    "collapsed": false
   },
   "outputs": [
    {
     "data": {
      "text/plain": [
       "(370126, 30, 3)"
      ]
     },
     "execution_count": 4,
     "metadata": {},
     "output_type": "execute_result"
    }
   ],
   "source": [
    "sequences.shape"
   ]
  },
  {
   "cell_type": "code",
   "execution_count": 5,
   "metadata": {
    "collapsed": false
   },
   "outputs": [
    {
     "name": "stdout",
     "output_type": "stream",
     "text": [
      "train rows 333113 dev rows 37012\n",
      "train shape (333113, 30, 3)\n",
      "dev shape (37012, 30, 3)\n",
      "X_train (333113, 29)\n",
      "X_dev (37012, 29)\n",
      "y_train (333113,)\n",
      "y_dev (37012,)\n",
      "y_train.mean 7.22566671786e-19\n",
      "y_dev.mean 0.000455185987645\n"
     ]
    }
   ],
   "source": [
    "train_rows = int(0.9 * sequences.shape[0])\n",
    "dev_rows = int(0.1 * sequences.shape[0])\n",
    "\n",
    "print \"train rows\", train_rows, \"dev rows\", dev_rows\n",
    "train = sequences[:train_rows, :]\n",
    "dev = sequences[train_rows:train_rows+dev_rows, :]\n",
    "print \"train shape\", train.shape\n",
    "print \"dev shape\", dev.shape\n",
    "\n",
    "np.random.shuffle(train)\n",
    "X_train = train[:, :-1,0] # one sym only\n",
    "y_train = train[:,-1,0] # first sym's return\n",
    "y_train = y_train - y_train.mean() # de-mean\n",
    "\n",
    "X_dev = dev[:, :-1,0]\n",
    "y_dev = dev[:, -1,0]\n",
    "\n",
    "print \"X_train\", X_train.shape\n",
    "print \"X_dev\", X_dev.shape\n",
    "\n",
    "print \"y_train\", y_train.shape\n",
    "print \"y_dev\", y_dev.shape\n",
    "\n",
    "print \"y_train.mean\", y_train.mean()\n",
    "print \"y_dev.mean\", y_dev.mean()"
   ]
  },
  {
   "cell_type": "code",
   "execution_count": 12,
   "metadata": {
    "collapsed": false
   },
   "outputs": [
    {
     "data": {
      "text/plain": [
       "0.0080641541513169646"
      ]
     },
     "execution_count": 12,
     "metadata": {},
     "output_type": "execute_result"
    }
   ],
   "source": [
    "y_train.var()"
   ]
  }
 ],
 "metadata": {
  "kernelspec": {
   "display_name": "Python 2",
   "language": "python",
   "name": "python2"
  },
  "language_info": {
   "codemirror_mode": {
    "name": "ipython",
    "version": 2
   },
   "file_extension": ".py",
   "mimetype": "text/x-python",
   "name": "python",
   "nbconvert_exporter": "python",
   "pygments_lexer": "ipython2",
   "version": "2.7.12"
  }
 },
 "nbformat": 4,
 "nbformat_minor": 1
}
